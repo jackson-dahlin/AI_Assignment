{
 "cells": [
  {
   "cell_type": "code",
   "execution_count": 59,
   "id": "d20b2ec0-a970-4b3e-99c0-aa01d54e3ac8",
   "metadata": {},
   "outputs": [],
   "source": [
    "## AI system used: ChatGPT 3.5"
   ]
  },
  {
   "cell_type": "code",
   "execution_count": 60,
   "id": "793bf4b2-d40f-402a-9494-adca40d8eea6",
   "metadata": {},
   "outputs": [],
   "source": [
    "## Load Necessary Libraries"
   ]
  },
  {
   "cell_type": "code",
   "execution_count": 61,
   "id": "6b3aeed0-332f-4bfd-a015-90847809d0ec",
   "metadata": {},
   "outputs": [],
   "source": [
    "# Load necessary libraries and modules\n",
    "\n",
    "import pandas as pd  # For data manipulation and analysis\n",
    "import seaborn as sns  # For data visualization\n",
    "import matplotlib.pyplot as plt  # For plotting graphs\n",
    "import plotly.express as px  # For interactive data visualization\n",
    "\n",
    "# For machine learning and evaluation\n",
    "from sklearn.model_selection import train_test_split  # To split data into training and testing sets\n",
    "from sklearn.preprocessing import StandardScaler  # To standardize the features\n",
    "from sklearn.neighbors import KNeighborsClassifier  # K-Nearest Neighbors classifier\n",
    "\n",
    "# For evaluation metrics\n",
    "from sklearn.metrics import confusion_matrix, classification_report, accuracy_score, precision_score, recall_score, f1_score"
   ]
  },
  {
   "cell_type": "code",
   "execution_count": 62,
   "id": "723cbd5c-2bc1-4e97-a373-7daef6c9e3d4",
   "metadata": {},
   "outputs": [],
   "source": [
    "## Load the Data"
   ]
  },
  {
   "cell_type": "code",
   "execution_count": 63,
   "id": "8bbb40d8-ca35-4dee-af93-dc257cffdb01",
   "metadata": {},
   "outputs": [],
   "source": [
    "# Prompt given: assign the string of the file name to a variable called file_path, \n",
    "# and then read the file into a variable called transaction_data_raw"
   ]
  },
  {
   "cell_type": "code",
   "execution_count": 64,
   "id": "64b80473-a5dd-4182-a544-f390a38e86b6",
   "metadata": {},
   "outputs": [
    {
     "data": {
      "text/html": [
       "<div>\n",
       "<style scoped>\n",
       "    .dataframe tbody tr th:only-of-type {\n",
       "        vertical-align: middle;\n",
       "    }\n",
       "\n",
       "    .dataframe tbody tr th {\n",
       "        vertical-align: top;\n",
       "    }\n",
       "\n",
       "    .dataframe thead th {\n",
       "        text-align: right;\n",
       "    }\n",
       "</style>\n",
       "<table border=\"1\" class=\"dataframe\">\n",
       "  <thead>\n",
       "    <tr style=\"text-align: right;\">\n",
       "      <th></th>\n",
       "      <th>distance_from_home</th>\n",
       "      <th>distance_from_last_transaction</th>\n",
       "      <th>ratio_to_median_purchase_price</th>\n",
       "      <th>repeat_retailer</th>\n",
       "      <th>used_chip</th>\n",
       "      <th>used_pin_number</th>\n",
       "      <th>online_order</th>\n",
       "      <th>fraud</th>\n",
       "    </tr>\n",
       "  </thead>\n",
       "  <tbody>\n",
       "    <tr>\n",
       "      <th>0</th>\n",
       "      <td>57.877857</td>\n",
       "      <td>0.311140</td>\n",
       "      <td>1.945940</td>\n",
       "      <td>1.0</td>\n",
       "      <td>1.0</td>\n",
       "      <td>0.0</td>\n",
       "      <td>0.0</td>\n",
       "      <td>0</td>\n",
       "    </tr>\n",
       "    <tr>\n",
       "      <th>1</th>\n",
       "      <td>10.829943</td>\n",
       "      <td>0.175592</td>\n",
       "      <td>1.294219</td>\n",
       "      <td>1.0</td>\n",
       "      <td>NaN</td>\n",
       "      <td>0.0</td>\n",
       "      <td>0.0</td>\n",
       "      <td>0</td>\n",
       "    </tr>\n",
       "    <tr>\n",
       "      <th>2</th>\n",
       "      <td>5.091079</td>\n",
       "      <td>NaN</td>\n",
       "      <td>0.427715</td>\n",
       "      <td>1.0</td>\n",
       "      <td>0.0</td>\n",
       "      <td>0.0</td>\n",
       "      <td>1.0</td>\n",
       "      <td>0</td>\n",
       "    </tr>\n",
       "    <tr>\n",
       "      <th>3</th>\n",
       "      <td>2.247564</td>\n",
       "      <td>5.600044</td>\n",
       "      <td>0.362663</td>\n",
       "      <td>1.0</td>\n",
       "      <td>1.0</td>\n",
       "      <td>0.0</td>\n",
       "      <td>1.0</td>\n",
       "      <td>0</td>\n",
       "    </tr>\n",
       "    <tr>\n",
       "      <th>4</th>\n",
       "      <td>44.190936</td>\n",
       "      <td>0.566486</td>\n",
       "      <td>2.222767</td>\n",
       "      <td>1.0</td>\n",
       "      <td>1.0</td>\n",
       "      <td>0.0</td>\n",
       "      <td>1.0</td>\n",
       "      <td>0</td>\n",
       "    </tr>\n",
       "  </tbody>\n",
       "</table>\n",
       "</div>"
      ],
      "text/plain": [
       "   distance_from_home  distance_from_last_transaction  \\\n",
       "0           57.877857                        0.311140   \n",
       "1           10.829943                        0.175592   \n",
       "2            5.091079                             NaN   \n",
       "3            2.247564                        5.600044   \n",
       "4           44.190936                        0.566486   \n",
       "\n",
       "   ratio_to_median_purchase_price  repeat_retailer  used_chip  \\\n",
       "0                        1.945940              1.0        1.0   \n",
       "1                        1.294219              1.0        NaN   \n",
       "2                        0.427715              1.0        0.0   \n",
       "3                        0.362663              1.0        1.0   \n",
       "4                        2.222767              1.0        1.0   \n",
       "\n",
       "   used_pin_number  online_order  fraud  \n",
       "0              0.0           0.0      0  \n",
       "1              0.0           0.0      0  \n",
       "2              0.0           1.0      0  \n",
       "3              0.0           1.0      0  \n",
       "4              0.0           1.0      0  "
      ]
     },
     "execution_count": 64,
     "metadata": {},
     "output_type": "execute_result"
    }
   ],
   "source": [
    "# Assign the file name to a variable\n",
    "file_path = \"card_transdata.csv\"\n",
    "\n",
    "# Read the CSV file into a DataFrame\n",
    "transaction_data_raw = pd.read_csv(file_path)\n",
    "\n",
    "# Display the first few rows of the data to confirm it was loaded correctly\n",
    "transaction_data_raw.head()"
   ]
  },
  {
   "cell_type": "code",
   "execution_count": 65,
   "id": "c86e790e-6818-408b-a905-3608b62868b0",
   "metadata": {},
   "outputs": [
    {
     "data": {
      "text/plain": [
       "(999, 8)"
      ]
     },
     "execution_count": 65,
     "metadata": {},
     "output_type": "execute_result"
    }
   ],
   "source": [
    "# Print the shape of the dataset\n",
    "transaction_data_raw.shape"
   ]
  },
  {
   "cell_type": "code",
   "execution_count": 66,
   "id": "ac1ef611-1dd6-48bb-95fd-757e9362a250",
   "metadata": {},
   "outputs": [
    {
     "name": "stdout",
     "output_type": "stream",
     "text": [
      "<class 'pandas.core.frame.DataFrame'>\n",
      "RangeIndex: 999 entries, 0 to 998\n",
      "Data columns (total 8 columns):\n",
      " #   Column                          Non-Null Count  Dtype  \n",
      "---  ------                          --------------  -----  \n",
      " 0   distance_from_home              999 non-null    float64\n",
      " 1   distance_from_last_transaction  996 non-null    float64\n",
      " 2   ratio_to_median_purchase_price  997 non-null    float64\n",
      " 3   repeat_retailer                 992 non-null    float64\n",
      " 4   used_chip                       995 non-null    float64\n",
      " 5   used_pin_number                 997 non-null    float64\n",
      " 6   online_order                    995 non-null    float64\n",
      " 7   fraud                           999 non-null    int64  \n",
      "dtypes: float64(7), int64(1)\n",
      "memory usage: 62.6 KB\n"
     ]
    }
   ],
   "source": [
    "# Print the info of the dataset\n",
    "transaction_data_raw.info()"
   ]
  },
  {
   "cell_type": "code",
   "execution_count": 67,
   "id": "0e13a129-84fc-4c86-a08b-8afa54425033",
   "metadata": {},
   "outputs": [
    {
     "data": {
      "text/html": [
       "<div>\n",
       "<style scoped>\n",
       "    .dataframe tbody tr th:only-of-type {\n",
       "        vertical-align: middle;\n",
       "    }\n",
       "\n",
       "    .dataframe tbody tr th {\n",
       "        vertical-align: top;\n",
       "    }\n",
       "\n",
       "    .dataframe thead th {\n",
       "        text-align: right;\n",
       "    }\n",
       "</style>\n",
       "<table border=\"1\" class=\"dataframe\">\n",
       "  <thead>\n",
       "    <tr style=\"text-align: right;\">\n",
       "      <th></th>\n",
       "      <th>distance_from_home</th>\n",
       "      <th>distance_from_last_transaction</th>\n",
       "      <th>ratio_to_median_purchase_price</th>\n",
       "      <th>repeat_retailer</th>\n",
       "      <th>used_chip</th>\n",
       "      <th>used_pin_number</th>\n",
       "      <th>online_order</th>\n",
       "      <th>fraud</th>\n",
       "    </tr>\n",
       "  </thead>\n",
       "  <tbody>\n",
       "    <tr>\n",
       "      <th>count</th>\n",
       "      <td>999.000000</td>\n",
       "      <td>996.000000</td>\n",
       "      <td>997.000000</td>\n",
       "      <td>992.000000</td>\n",
       "      <td>995.000000</td>\n",
       "      <td>997.000000</td>\n",
       "      <td>995.000000</td>\n",
       "      <td>999.000000</td>\n",
       "    </tr>\n",
       "    <tr>\n",
       "      <th>mean</th>\n",
       "      <td>26.876607</td>\n",
       "      <td>5.437319</td>\n",
       "      <td>1.655069</td>\n",
       "      <td>0.892137</td>\n",
       "      <td>0.313568</td>\n",
       "      <td>0.117352</td>\n",
       "      <td>0.673367</td>\n",
       "      <td>0.079079</td>\n",
       "    </tr>\n",
       "    <tr>\n",
       "      <th>std</th>\n",
       "      <td>63.899697</td>\n",
       "      <td>35.668094</td>\n",
       "      <td>2.351386</td>\n",
       "      <td>0.310364</td>\n",
       "      <td>0.464176</td>\n",
       "      <td>0.322001</td>\n",
       "      <td>0.469218</td>\n",
       "      <td>0.269997</td>\n",
       "    </tr>\n",
       "    <tr>\n",
       "      <th>min</th>\n",
       "      <td>0.104184</td>\n",
       "      <td>0.001448</td>\n",
       "      <td>0.016933</td>\n",
       "      <td>0.000000</td>\n",
       "      <td>0.000000</td>\n",
       "      <td>0.000000</td>\n",
       "      <td>0.000000</td>\n",
       "      <td>0.000000</td>\n",
       "    </tr>\n",
       "    <tr>\n",
       "      <th>25%</th>\n",
       "      <td>3.990543</td>\n",
       "      <td>0.306441</td>\n",
       "      <td>0.468123</td>\n",
       "      <td>1.000000</td>\n",
       "      <td>0.000000</td>\n",
       "      <td>0.000000</td>\n",
       "      <td>0.000000</td>\n",
       "      <td>0.000000</td>\n",
       "    </tr>\n",
       "    <tr>\n",
       "      <th>50%</th>\n",
       "      <td>10.340321</td>\n",
       "      <td>0.958539</td>\n",
       "      <td>0.955504</td>\n",
       "      <td>1.000000</td>\n",
       "      <td>0.000000</td>\n",
       "      <td>0.000000</td>\n",
       "      <td>1.000000</td>\n",
       "      <td>0.000000</td>\n",
       "    </tr>\n",
       "    <tr>\n",
       "      <th>75%</th>\n",
       "      <td>25.393952</td>\n",
       "      <td>3.137259</td>\n",
       "      <td>1.922025</td>\n",
       "      <td>1.000000</td>\n",
       "      <td>1.000000</td>\n",
       "      <td>0.000000</td>\n",
       "      <td>1.000000</td>\n",
       "      <td>0.000000</td>\n",
       "    </tr>\n",
       "    <tr>\n",
       "      <th>max</th>\n",
       "      <td>965.910612</td>\n",
       "      <td>990.070315</td>\n",
       "      <td>36.074366</td>\n",
       "      <td>1.000000</td>\n",
       "      <td>1.000000</td>\n",
       "      <td>1.000000</td>\n",
       "      <td>1.000000</td>\n",
       "      <td>1.000000</td>\n",
       "    </tr>\n",
       "  </tbody>\n",
       "</table>\n",
       "</div>"
      ],
      "text/plain": [
       "       distance_from_home  distance_from_last_transaction  \\\n",
       "count          999.000000                      996.000000   \n",
       "mean            26.876607                        5.437319   \n",
       "std             63.899697                       35.668094   \n",
       "min              0.104184                        0.001448   \n",
       "25%              3.990543                        0.306441   \n",
       "50%             10.340321                        0.958539   \n",
       "75%             25.393952                        3.137259   \n",
       "max            965.910612                      990.070315   \n",
       "\n",
       "       ratio_to_median_purchase_price  repeat_retailer   used_chip  \\\n",
       "count                      997.000000       992.000000  995.000000   \n",
       "mean                         1.655069         0.892137    0.313568   \n",
       "std                          2.351386         0.310364    0.464176   \n",
       "min                          0.016933         0.000000    0.000000   \n",
       "25%                          0.468123         1.000000    0.000000   \n",
       "50%                          0.955504         1.000000    0.000000   \n",
       "75%                          1.922025         1.000000    1.000000   \n",
       "max                         36.074366         1.000000    1.000000   \n",
       "\n",
       "       used_pin_number  online_order       fraud  \n",
       "count       997.000000    995.000000  999.000000  \n",
       "mean          0.117352      0.673367    0.079079  \n",
       "std           0.322001      0.469218    0.269997  \n",
       "min           0.000000      0.000000    0.000000  \n",
       "25%           0.000000      0.000000    0.000000  \n",
       "50%           0.000000      1.000000    0.000000  \n",
       "75%           0.000000      1.000000    0.000000  \n",
       "max           1.000000      1.000000    1.000000  "
      ]
     },
     "execution_count": 67,
     "metadata": {},
     "output_type": "execute_result"
    }
   ],
   "source": [
    "# Print the descriptive statistics of the dataset\n",
    "transaction_data_raw.describe()"
   ]
  },
  {
   "cell_type": "code",
   "execution_count": 68,
   "id": "67653047-998b-4f4d-9616-4f1a680f5d63",
   "metadata": {},
   "outputs": [],
   "source": [
    "## Data Wrangling"
   ]
  },
  {
   "cell_type": "code",
   "execution_count": 69,
   "id": "96ea7e59-4b3a-4586-8542-a303a89d9c26",
   "metadata": {},
   "outputs": [
    {
     "data": {
      "text/plain": [
       "distance_from_home                0\n",
       "distance_from_last_transaction    3\n",
       "ratio_to_median_purchase_price    2\n",
       "repeat_retailer                   7\n",
       "used_chip                         4\n",
       "used_pin_number                   2\n",
       "online_order                      4\n",
       "fraud                             0\n",
       "dtype: int64"
      ]
     },
     "execution_count": 69,
     "metadata": {},
     "output_type": "execute_result"
    }
   ],
   "source": [
    "# Check for the number of missing values in each column\n",
    "transaction_data_raw.isnull().sum()"
   ]
  },
  {
   "cell_type": "code",
   "execution_count": 70,
   "id": "4c52831a-9226-4ebe-9e88-c18863b1eb2e",
   "metadata": {},
   "outputs": [],
   "source": [
    "# Prompt given: write 2-3 sentences discussing options about what to do with the missing values"
   ]
  },
  {
   "cell_type": "code",
   "execution_count": 71,
   "id": "06006b95-66b7-42e1-a634-2c59c436a61e",
   "metadata": {},
   "outputs": [],
   "source": [
    "# To handle missing values, you can either drop the rows or columns with missing data if they are minimal,\n",
    "# or impute the missing values using the mean, median, or mode for numerical and categorical columns. \n",
    "# Another option is to use machine learning models to predict and fill in missing values. \n",
    "# The choice depends on the amount of missing data and the impact on the analysis."
   ]
  },
  {
   "cell_type": "code",
   "execution_count": 72,
   "id": "d9cba970-e465-4569-9ea0-e838f9773518",
   "metadata": {},
   "outputs": [
    {
     "data": {
      "text/plain": [
       "(977, 8)"
      ]
     },
     "execution_count": 72,
     "metadata": {},
     "output_type": "execute_result"
    }
   ],
   "source": [
    "# Drop rows with null values and print the shape of the updated DataFrame\n",
    "transaction_data_cleaned = transaction_data_raw.dropna()\n",
    "transaction_data_cleaned.shape"
   ]
  },
  {
   "cell_type": "code",
   "execution_count": 73,
   "id": "8ddc94ce-ead7-4305-9c3b-55097ca72c2c",
   "metadata": {},
   "outputs": [
    {
     "data": {
      "text/html": [
       "<div>\n",
       "<style scoped>\n",
       "    .dataframe tbody tr th:only-of-type {\n",
       "        vertical-align: middle;\n",
       "    }\n",
       "\n",
       "    .dataframe tbody tr th {\n",
       "        vertical-align: top;\n",
       "    }\n",
       "\n",
       "    .dataframe thead th {\n",
       "        text-align: right;\n",
       "    }\n",
       "</style>\n",
       "<table border=\"1\" class=\"dataframe\">\n",
       "  <thead>\n",
       "    <tr style=\"text-align: right;\">\n",
       "      <th></th>\n",
       "      <th>distance_from_home</th>\n",
       "      <th>distance_from_last_transaction</th>\n",
       "      <th>ratio_to_median_purchase_price</th>\n",
       "      <th>repeat_retailer</th>\n",
       "      <th>used_chip</th>\n",
       "      <th>used_pin_number</th>\n",
       "      <th>online_order</th>\n",
       "      <th>fraud</th>\n",
       "    </tr>\n",
       "  </thead>\n",
       "  <tbody>\n",
       "    <tr>\n",
       "      <th>0</th>\n",
       "      <td>57.877857</td>\n",
       "      <td>0.311140</td>\n",
       "      <td>1.945940</td>\n",
       "      <td>1.0</td>\n",
       "      <td>1.0</td>\n",
       "      <td>0.0</td>\n",
       "      <td>0.0</td>\n",
       "      <td>0</td>\n",
       "    </tr>\n",
       "    <tr>\n",
       "      <th>3</th>\n",
       "      <td>2.247564</td>\n",
       "      <td>5.600044</td>\n",
       "      <td>0.362663</td>\n",
       "      <td>1.0</td>\n",
       "      <td>1.0</td>\n",
       "      <td>0.0</td>\n",
       "      <td>1.0</td>\n",
       "      <td>0</td>\n",
       "    </tr>\n",
       "    <tr>\n",
       "      <th>4</th>\n",
       "      <td>44.190936</td>\n",
       "      <td>0.566486</td>\n",
       "      <td>2.222767</td>\n",
       "      <td>1.0</td>\n",
       "      <td>1.0</td>\n",
       "      <td>0.0</td>\n",
       "      <td>1.0</td>\n",
       "      <td>0</td>\n",
       "    </tr>\n",
       "    <tr>\n",
       "      <th>5</th>\n",
       "      <td>5.586408</td>\n",
       "      <td>13.261073</td>\n",
       "      <td>0.064768</td>\n",
       "      <td>1.0</td>\n",
       "      <td>0.0</td>\n",
       "      <td>0.0</td>\n",
       "      <td>0.0</td>\n",
       "      <td>0</td>\n",
       "    </tr>\n",
       "    <tr>\n",
       "      <th>6</th>\n",
       "      <td>3.724019</td>\n",
       "      <td>0.956838</td>\n",
       "      <td>0.278465</td>\n",
       "      <td>1.0</td>\n",
       "      <td>0.0</td>\n",
       "      <td>0.0</td>\n",
       "      <td>1.0</td>\n",
       "      <td>0</td>\n",
       "    </tr>\n",
       "  </tbody>\n",
       "</table>\n",
       "</div>"
      ],
      "text/plain": [
       "   distance_from_home  distance_from_last_transaction  \\\n",
       "0           57.877857                        0.311140   \n",
       "3            2.247564                        5.600044   \n",
       "4           44.190936                        0.566486   \n",
       "5            5.586408                       13.261073   \n",
       "6            3.724019                        0.956838   \n",
       "\n",
       "   ratio_to_median_purchase_price  repeat_retailer  used_chip  \\\n",
       "0                        1.945940              1.0        1.0   \n",
       "3                        0.362663              1.0        1.0   \n",
       "4                        2.222767              1.0        1.0   \n",
       "5                        0.064768              1.0        0.0   \n",
       "6                        0.278465              1.0        0.0   \n",
       "\n",
       "   used_pin_number  online_order  fraud  \n",
       "0              0.0           0.0      0  \n",
       "3              0.0           1.0      0  \n",
       "4              0.0           1.0      0  \n",
       "5              0.0           0.0      0  \n",
       "6              0.0           1.0      0  "
      ]
     },
     "execution_count": 73,
     "metadata": {},
     "output_type": "execute_result"
    }
   ],
   "source": [
    "# Show the first few rows of the updated DataFrame\n",
    "transaction_data_cleaned.head()"
   ]
  },
  {
   "cell_type": "code",
   "execution_count": 74,
   "id": "039b2b94-79f9-4cab-9ed1-09a0ec7480fe",
   "metadata": {},
   "outputs": [],
   "source": [
    "## Visualize the Data"
   ]
  },
  {
   "cell_type": "code",
   "execution_count": 75,
   "id": "01d20b6c-06d9-4433-bbc1-9f3593ba67d4",
   "metadata": {},
   "outputs": [
    {
     "data": {
      "image/png": "[encoded data removed]",
      "text/plain": [
       "<Figure size 432x288 with 1 Axes>"
      ]
     },
     "metadata": {
      "needs_background": "light"
     },
     "output_type": "display_data"
    }
   ],
   "source": [
    "# Create a countplot for the 'fraud' column\n",
    "sns.countplot(x='fraud', data=transaction_data_cleaned)\n",
    "plt.title('Fraud Class Distribution')\n",
    "plt.show()"
   ]
  },
  {
   "cell_type": "code",
   "execution_count": 76,
   "id": "303e133b-1502-4f98-88a8-f7478214bebb",
   "metadata": {},
   "outputs": [
    {
     "data": {
      "image/png": "[encoded data removed]",
      "text/plain": [
       "<Figure size 432x288 with 1 Axes>"
      ]
     },
     "metadata": {
      "needs_background": "light"
     },
     "output_type": "display_data"
    }
   ],
   "source": [
    "# Create a countplot for the 'used_pin_number' column\n",
    "sns.countplot(x='used_pin_number', data=transaction_data_cleaned)\n",
    "plt.title('Used Pin Distribution')\n",
    "plt.show()"
   ]
  },
  {
   "cell_type": "code",
   "execution_count": 77,
   "id": "474d7a58-152e-40f1-a827-69e15ec9bc2d",
   "metadata": {},
   "outputs": [],
   "source": [
    "# Prompt given: same thing with repeat_retailer"
   ]
  },
  {
   "cell_type": "code",
   "execution_count": 78,
   "id": "90da9abe-d025-464c-9ee7-fa4cc726c115",
   "metadata": {},
   "outputs": [
    {
     "data": {
      "image/png": "[encoded data removed]",
      "text/plain": [
       "<Figure size 432x288 with 1 Axes>"
      ]
     },
     "metadata": {
      "needs_background": "light"
     },
     "output_type": "display_data"
    }
   ],
   "source": [
    "# Create a countplot for the 'repeat_retailer' column\n",
    "sns.countplot(x='repeat_retailer', data=transaction_data_cleaned)\n",
    "plt.title('Repeat Retailer Distribution')\n",
    "plt.show()"
   ]
  },
  {
   "cell_type": "code",
   "execution_count": 79,
   "id": "683bad10-be42-421e-8321-c51633b17d47",
   "metadata": {},
   "outputs": [
    {
     "data": {
      "image/png": "[encoded data removed]",
      "text/plain": [
       "<Figure size 432x288 with 1 Axes>"
      ]
     },
     "metadata": {
      "needs_background": "light"
     },
     "output_type": "display_data"
    }
   ],
   "source": [
    "# Create a countplot for the 'used_chip' column\n",
    "sns.countplot(x='used_chip', data=transaction_data_cleaned)\n",
    "plt.title('Used Chip Distribution')\n",
    "plt.show()"
   ]
  },
  {
   "cell_type": "code",
   "execution_count": 80,
   "id": "71a9a615-0489-45ed-a0c6-4f1c96e4e8d5",
   "metadata": {},
   "outputs": [
    {
     "data": {
      "image/png": "[encoded data removed]",
      "text/plain": [
       "<Figure size 432x288 with 1 Axes>"
      ]
     },
     "metadata": {
      "needs_background": "light"
     },
     "output_type": "display_data"
    }
   ],
   "source": [
    "# Create a countplot for the 'online_order' column\n",
    "sns.countplot(x='online_order', data=transaction_data_cleaned)\n",
    "plt.title('Online Order Distribution')\n",
    "plt.show()"
   ]
  },
  {
   "cell_type": "code",
   "execution_count": 81,
   "id": "1cf47b97-1137-4c4b-96ab-a02d95c5fbf5",
   "metadata": {},
   "outputs": [
    {
     "data": {
      "image/png": "[encoded data removed]",
      "text/plain": [
       "<Figure size 432x288 with 1 Axes>"
      ]
     },
     "metadata": {
      "needs_background": "light"
     },
     "output_type": "display_data"
    }
   ],
   "source": [
    "# Create a histogram for the 'distance_from_last_transaction' column with labels\n",
    "plt.hist(transaction_data_cleaned['distance_from_last_transaction'], bins=30)\n",
    "plt.title('Distance From Last Transaction Distribution')\n",
    "plt.xlabel('distance_from_last_transaction')\n",
    "plt.ylabel('Count')\n",
    "plt.show()"
   ]
  },
  {
   "cell_type": "code",
   "execution_count": 82,
   "id": "88972731-3105-434d-9d82-2d3af1a3d0d4",
   "metadata": {},
   "outputs": [
    {
     "data": {
      "image/png": "[encoded data removed]",
      "text/plain": [
       "<Figure size 432x288 with 1 Axes>"
      ]
     },
     "metadata": {
      "needs_background": "light"
     },
     "output_type": "display_data"
    }
   ],
   "source": [
    "# Create a histogram for the 'ratio_to_median_purchase_price' column with labels\n",
    "plt.hist(transaction_data_cleaned['ratio_to_median_purchase_price'], bins=30)\n",
    "plt.title('Ratio to Median Purchase Price Distribution')\n",
    "plt.xlabel('ratio_to_median_purchase_price')\n",
    "plt.ylabel('Count')\n",
    "plt.show()"
   ]
  },
  {
   "cell_type": "code",
   "execution_count": 83,
   "id": "5478301f-5d06-435b-95cd-797a86e2d966",
   "metadata": {},
   "outputs": [
    {
     "data": {
      "image/png": "[encoded data removed]",
      "text/plain": [
       "<Figure size 432x288 with 1 Axes>"
      ]
     },
     "metadata": {
      "needs_background": "light"
     },
     "output_type": "display_data"
    }
   ],
   "source": [
    "# Create a histogram for the 'distance_from_home' column with labels\n",
    "plt.hist(transaction_data_cleaned['distance_from_home'], bins=30)\n",
    "plt.title('Distance From Home Distribution')\n",
    "plt.xlabel('distance_from_home')\n",
    "plt.ylabel('Count')\n",
    "plt.show()"
   ]
  },
  {
   "cell_type": "code",
   "execution_count": 84,
   "id": "5043cfd5-a634-4657-8643-f7ded7117970",
   "metadata": {},
   "outputs": [],
   "source": [
    "## Better Visualizations"
   ]
  },
  {
   "cell_type": "code",
   "execution_count": 85,
   "id": "b70e47fb-00f5-4dab-b2d8-401902accd66",
   "metadata": {},
   "outputs": [
    {
     "data": {
      "image/png": "[encoded data removed]",
      "text/plain": [
       "<Figure size 432x288 with 1 Axes>"
      ]
     },
     "metadata": {
      "needs_background": "light"
     },
     "output_type": "display_data"
    }
   ],
   "source": [
    "# Create a countplot for 'used_pin_number' with 'fraud' as hue\n",
    "sns.countplot(x='used_pin_number', hue='fraud', data=transaction_data_cleaned, palette=['green', 'red'])\n",
    "\n",
    "# Customize the title and labels\n",
    "plt.title('Transactions with PIN vs Fraudulent Transactions')\n",
    "plt.xlabel('Used PIN')\n",
    "plt.ylabel('Count')\n",
    "\n",
    "# Display the legend\n",
    "plt.legend(title='Fraud', labels=['Non-Fraudulent', 'Fraudulent'])\n",
    "\n",
    "# Show the plot\n",
    "plt.show()"
   ]
  },
  {
   "cell_type": "code",
   "execution_count": 86,
   "id": "5949ef21-9a56-4b39-9c6e-7ddd0183a850",
   "metadata": {},
   "outputs": [
    {
     "data": {
      "image/png": "[encoded data removed]",
      "text/plain": [
       "<Figure size 360x216 with 1 Axes>"
      ]
     },
     "metadata": {
      "needs_background": "light"
     },
     "output_type": "display_data"
    }
   ],
   "source": [
    "# Create a dataframe grouped by 'used_pin_number' showing the value counts of 'fraud'\n",
    "df_pin_fraud = transaction_data_cleaned.groupby('used_pin_number')['fraud'].value_counts(normalize=True).unstack() * 100 \n",
    "\n",
    "# Create a countplot\n",
    "df_pin_fraud.plot(kind='bar', stacked=True, color=['green', 'red'], figsize=(5, 3))\n",
    "\n",
    "# Customize the title and labels\n",
    "plt.title('Percentage of Fraudulent Transactions with PIN Usage')\n",
    "plt.xlabel('Used PIN')\n",
    "plt.ylabel('Percentage')\n",
    "\n",
    "# Display the legend\n",
    "plt.legend(title='Fraud', labels=['Non-Fraudulent', 'Fraudulent'])\n",
    "\n",
    "# Show the plot\n",
    "plt.show()"
   ]
  },
  {
   "cell_type": "code",
   "execution_count": 87,
   "id": "33d87446-0a6f-42d9-98ab-5383d0d0a62c",
   "metadata": {},
   "outputs": [
    {
     "data": {
      "image/png": "[encoded data removed]",
      "text/plain": [
       "<Figure size 432x288 with 1 Axes>"
      ]
     },
     "metadata": {
      "needs_background": "light"
     },
     "output_type": "display_data"
    },
    {
     "data": {
      "image/png": "[encoded data removed]",
      "text/plain": [
       "<Figure size 360x216 with 1 Axes>"
      ]
     },
     "metadata": {
      "needs_background": "light"
     },
     "output_type": "display_data"
    }
   ],
   "source": [
    "# Create a count plot of repeat_retailer\n",
    "sns.countplot(data=transaction_data_cleaned, x='repeat_retailer', hue='fraud', palette=['green', 'red'])\n",
    "\n",
    "# Customize the title and labels\n",
    "plt.title('Transactions with Repeat Retailer vs Fraudulent Transactions')\n",
    "plt.xlabel('Repeat Retailer')\n",
    "plt.ylabel('Count')\n",
    "\n",
    "# Display the legend\n",
    "plt.legend(title='Fraud', labels=['Non-Fraudulent', 'Fraudulent'])\n",
    "\n",
    "# Show the plot\n",
    "plt.show()\n",
    "\n",
    "# Create a percentage plot to show the percentage of fraudulent transactions when a transaction was from the same retailer or not\n",
    "df_retailer_fraud = transaction_data_cleaned.groupby('repeat_retailer')['fraud'].value_counts(normalize=True).unstack() * 100\n",
    "\n",
    "df_retailer_fraud.plot(kind='bar', stacked=True, color=['green', 'red'], figsize=(5, 3))\n",
    "\n",
    "# Customize the title and labels\n",
    "plt.title('Percentage of Fraudulent Transactions with Repeat Retailer')\n",
    "plt.xlabel('Repeat Retailer')\n",
    "plt.ylabel('Percentage')\n",
    "\n",
    "# Display the legend\n",
    "plt.legend(title='Fraud', labels=['Non-Fraudulent', 'Fraudulent'])\n",
    "\n",
    "# Show the plot\n",
    "plt.show()"
   ]
  },
  {
   "cell_type": "code",
   "execution_count": 88,
   "id": "9532961a-3a68-4c9c-b0c6-c2460a05c651",
   "metadata": {},
   "outputs": [
    {
     "data": {
      "image/png": "[encoded data removed]",
      "text/plain": [
       "<Figure size 432x288 with 1 Axes>"
      ]
     },
     "metadata": {
      "needs_background": "light"
     },
     "output_type": "display_data"
    },
    {
     "data": {
      "image/png": "[encoded data removed]",
      "text/plain": [
       "<Figure size 432x288 with 1 Axes>"
      ]
     },
     "metadata": {
      "needs_background": "light"
     },
     "output_type": "display_data"
    }
   ],
   "source": [
    "# Create a count plot with 'used_chip' on the x-axis with 'fraud' as hue\n",
    "sns.countplot(data=transaction_data_cleaned, x='used_chip', hue='fraud', palette=['green', 'red'])\n",
    "\n",
    "# Customize the title and labels\n",
    "plt.title('Transactions with Chip vs Fraudulent Transactions')\n",
    "plt.xlabel('Used Chip')\n",
    "plt.ylabel('Count')\n",
    "\n",
    "# Display the legend\n",
    "plt.legend(title='Fraud', labels=['Non-Fraudulent', 'Fraudulent'])\n",
    "\n",
    "# Show the plot\n",
    "plt.show()\n",
    "\n",
    "df_chip_fraud = transaction_data_cleaned.groupby('used_chip')['fraud'].value_counts(normalize=True).unstack() * 100\n",
    "\n",
    "# Create a percentage plot to how many fraudulent transactions occured when a chip was or was not used\n",
    "df_chip_fraud.plot(kind='bar', stacked=True, color=['green', 'red'])\n",
    "\n",
    "# Customize the title and labels\n",
    "plt.title('Percentage of Fraudulent Transactions with Chip Usage')\n",
    "plt.xlabel('Used Chip')\n",
    "plt.ylabel('Percentage')\n",
    "\n",
    "# Display the legend\n",
    "plt.legend(title='Fraud', labels=['Non-Fraudulent', 'Fraudulent'])\n",
    "\n",
    "# Show the plot\n",
    "plt.show()"
   ]
  },
  {
   "cell_type": "code",
   "execution_count": 89,
   "id": "3f174670-b2a7-417f-a79a-ed7f5abb6a6e",
   "metadata": {},
   "outputs": [],
   "source": [
    "# Prompt given: same thing with online_order"
   ]
  },
  {
   "cell_type": "code",
   "execution_count": 90,
   "id": "a8c1f828-4135-4ae6-a7e2-4d1daf224605",
   "metadata": {},
   "outputs": [
    {
     "data": {
      "image/png": "[encoded data removed]",
      "text/plain": [
       "<Figure size 360x216 with 1 Axes>"
      ]
     },
     "metadata": {
      "needs_background": "light"
     },
     "output_type": "display_data"
    },
    {
     "data": {
      "image/png": "[encoded data removed]",
      "text/plain": [
       "<Figure size 360x216 with 1 Axes>"
      ]
     },
     "metadata": {
      "needs_background": "light"
     },
     "output_type": "display_data"
    }
   ],
   "source": [
    "# Create a count plot to show the number of transactions that were fraudulent vs non-fraudulent when an online order was placed or not\n",
    "plt.figure(figsize=(5, 3))  # Set the figure size for better readability\n",
    "sns.countplot(data=transaction_data_cleaned, x='online_order', hue='fraud', palette=['green', 'red'])  \n",
    "# countplot: x-axis is 'online_order', hue differentiates between 'fraud' (green for non-fraudulent, red for fraudulent)\n",
    "plt.title('Transactions with Online Order vs Fraudulent Transactions')  # Add a title to the plot\n",
    "plt.xlabel('Online Order')  # Label for the x-axis\n",
    "plt.ylabel('Count')  # Label for the y-axis\n",
    "plt.legend(title='Fraud', labels=['Non-Fraudulent', 'Fraudulent'])  # Add a legend for 'fraud' column (non-fraudulent in green, fraudulent in red)\n",
    "plt.show()  # Display the plot\n",
    "\n",
    "# Create a percentage plot to show the percentage of fraudulent transactions when an online order was placed or not\n",
    "# Group data by 'online_order' and 'fraud' to calculate the percentage of fraudulent transactions in each group\n",
    "df_online_order_fraud = transaction_data_cleaned.groupby('online_order')['fraud'].value_counts(normalize=True).unstack() * 100\n",
    "# unstack() converts the 'fraud' values into separate columns for better visualization, and multiply by 100 to get percentages\n",
    "\n",
    "# Plot the percentage distribution as a stacked bar chart, where green is non-fraudulent and red is fraudulent\n",
    "df_online_order_fraud.plot(kind='bar', stacked=True, color=['green', 'red'], figsize=(5, 3))  \n",
    "plt.title('Percentage of Fraudulent Transactions with Online Orders')  # Add a title to the plot\n",
    "plt.xlabel('Online Order')  # Label for the x-axis\n",
    "plt.ylabel('Percentage')  # Label for the y-axis\n",
    "plt.legend(title='Fraud', labels=['Non-Fraudulent', 'Fraudulent'])  # Add a legend to explain the color coding\n",
    "plt.show()  # Display the plot"
   ]
  },
  {
   "cell_type": "code",
   "execution_count": 91,
   "id": "2c0f72d3-bfd5-41a2-919c-3268a5b49814",
   "metadata": {},
   "outputs": [],
   "source": [
    "## Bivariate Visualizations"
   ]
  },
  {
   "cell_type": "code",
   "execution_count": 92,
   "id": "caca449f-89a8-4494-96c4-b94f5291ae75",
   "metadata": {},
   "outputs": [
    {
     "data": {
      "image/png": "[encoded data removed]",
      "text/plain": [
       "<Figure size 720x432 with 1 Axes>"
      ]
     },
     "metadata": {
      "needs_background": "light"
     },
     "output_type": "display_data"
    }
   ],
   "source": [
    "# Create a scatter plot to show the breakdown of fraudulent and non-fraudulent transactions\n",
    "plt.figure(figsize=(10, 6))  # Set figure size for better visibility\n",
    "\n",
    "# Plot a scatter plot where 'distance_from_home' is on the x-axis and 'ratio_to_median_purchase_price' is on the y-axis\n",
    "# Use 'fraud' to color the points (red for fraudulent, green for non-fraudulent)\n",
    "sns.scatterplot(data=transaction_data_cleaned, \n",
    "                x='distance_from_home', \n",
    "                y='ratio_to_median_purchase_price', \n",
    "                hue='fraud', \n",
    "                palette=['green', 'red'], \n",
    "                alpha=0.6,  # Adjust transparency for better visibility of overlapping points\n",
    "                edgecolor=None)  # Remove edgecolor for cleaner visualization\n",
    "\n",
    "# Set the title and labels for the plot\n",
    "plt.title('Fraudulent vs Non-Fraudulent Transactions')\n",
    "plt.xlabel('Distance From Home')\n",
    "plt.ylabel('Ratio to Median Purchase Price')\n",
    "\n",
    "# Display the legend to indicate what colors represent fraudulent vs non-fraudulent transactions\n",
    "plt.legend(title='Fraud', labels=['Non-Fraudulent', 'Fraudulent'])\n",
    "\n",
    "# Show the plot\n",
    "plt.show()"
   ]
  },
  {
   "cell_type": "code",
   "execution_count": 93,
   "id": "fcddf572-742f-4a88-aaa2-f017400609a7",
   "metadata": {},
   "outputs": [
    {
     "data": {
      "image/png": "[encoded data removed]",
      "text/plain": [
       "<Figure size 576x432 with 1 Axes>"
      ]
     },
     "metadata": {
      "needs_background": "light"
     },
     "output_type": "display_data"
    }
   ],
   "source": [
    "# Create a scatter plot to show the breakdown of fraudulent and non-fraudulent transactions\n",
    "plt.figure(figsize=(8, 6))  # Set the figure size for better visibility\n",
    "\n",
    "# Plot the scatter plot with 'distance_from_home' on the x-axis and 'distance_from_last_transaction' on the y-axis\n",
    "# Color the points based on fraud status using 'hue'\n",
    "sns.scatterplot(data=transaction_data_cleaned, \n",
    "                x='distance_from_home', \n",
    "                y='distance_from_last_transaction', \n",
    "                hue='fraud', \n",
    "                palette=['green', 'red'],  # Green for non-fraudulent, Red for fraudulent\n",
    "                alpha=0.6,  # Adjust transparency to allow better visibility of overlapping points\n",
    "                edgecolor=None)  # Remove edgecolor for a cleaner look\n",
    "\n",
    "# Set the title and labels for the plot\n",
    "plt.title('Fraudulent vs Non-Fraudulent Transactions')\n",
    "plt.xlabel('Distance From Home')\n",
    "plt.ylabel('Distance From Last Transaction')\n",
    "\n",
    "# Display the legend to indicate what colors represent fraudulent vs non-fraudulent transactions\n",
    "plt.legend(title='Fraud', labels=['Non-Fraudulent', 'Fraudulent'])\n",
    "\n",
    "# Show the plot\n",
    "plt.show()"
   ]
  },
  {
   "cell_type": "code",
   "execution_count": 94,
   "id": "cdb860bf-e12c-4038-9b33-45d1f43e8bcb",
   "metadata": {},
   "outputs": [
    {
     "data": {
      "image/png": "[encoded data removed]",
      "text/plain": [
       "<Figure size 576x432 with 1 Axes>"
      ]
     },
     "metadata": {
      "needs_background": "light"
     },
     "output_type": "display_data"
    }
   ],
   "source": [
    "# Create a scatter plot to show the breakdown of fraudulent and non-fraudulent transactions\n",
    "plt.figure(figsize=(8, 6))  # Set the figure size for better visibility\n",
    "\n",
    "# Plot the scatter plot with 'distance_from_last_transaction' on the y-axis and 'ratio_to_median_purchase_price' on the x-axis\n",
    "# Color the points based on fraud status using 'hue'\n",
    "sns.scatterplot(data=transaction_data_cleaned, \n",
    "                x='ratio_to_median_purchase_price', \n",
    "                y='distance_from_last_transaction', \n",
    "                hue='fraud', \n",
    "                palette=['green', 'red'],  # Green for non-fraudulent, Red for fraudulent\n",
    "                alpha=0.6,  # Adjust transparency to allow better visibility of overlapping points\n",
    "                edgecolor=None)  # Remove edgecolor for a cleaner look\n",
    "\n",
    "# Set the title and labels for the plot\n",
    "plt.title('Fraudulent vs Non-Fraudulent Transactions')\n",
    "plt.xlabel('Ratio to Median Purchase Price')\n",
    "plt.ylabel('Distance From Last Transaction')\n",
    "\n",
    "# Display the legend to indicate what colors represent fraudulent vs non-fraudulent transactions\n",
    "plt.legend(title='Fraud', labels=['Non-Fraudulent', 'Fraudulent'])\n",
    "\n",
    "# Show the plot\n",
    "plt.show()"
   ]
  },
  {
   "cell_type": "code",
   "execution_count": 95,
   "id": "d32f60fb-24af-4030-9ebf-70f74f9bd478",
   "metadata": {},
   "outputs": [],
   "source": [
    "## Can we predict if a transaction is a fraud?"
   ]
  },
  {
   "cell_type": "code",
   "execution_count": 96,
   "id": "3fb06957-e572-4f58-bfc1-2e2a2b41aaba",
   "metadata": {},
   "outputs": [],
   "source": [
    "# Prompt given: set the variable X to be the dataframe but drop 'fraud' and set the axis to 1, \n",
    "# and set the variable y to just be the 'fraud' column of the dataframe, \n",
    "# then use train_test_split to split the data into training and testing sets"
   ]
  },
  {
   "cell_type": "code",
   "execution_count": 97,
   "id": "8160d668-d5da-4080-a598-a9ec2bac2747",
   "metadata": {},
   "outputs": [],
   "source": [
    "# Define the features (X) and the target (y)\n",
    "X = transaction_data_cleaned.drop('fraud', axis=1)  # Drop the 'fraud' column to create the feature set\n",
    "y = transaction_data_cleaned['fraud']  # Target variable is the 'fraud' column\n",
    "\n",
    "# Split the data into training and testing sets\n",
    "# Use stratify=y to maintain the same class distribution in training and testing sets\n",
    "X_train, X_test, y_train, y_test = train_test_split(X, y, test_size=0.2, random_state=42, stratify=y)"
   ]
  },
  {
   "cell_type": "code",
   "execution_count": 98,
   "id": "60513924-d106-4d5d-8f35-0430a009363c",
   "metadata": {},
   "outputs": [
    {
     "data": {
      "text/html": [
       "<div>\n",
       "<style scoped>\n",
       "    .dataframe tbody tr th:only-of-type {\n",
       "        vertical-align: middle;\n",
       "    }\n",
       "\n",
       "    .dataframe tbody tr th {\n",
       "        vertical-align: top;\n",
       "    }\n",
       "\n",
       "    .dataframe thead th {\n",
       "        text-align: right;\n",
       "    }\n",
       "</style>\n",
       "<table border=\"1\" class=\"dataframe\">\n",
       "  <thead>\n",
       "    <tr style=\"text-align: right;\">\n",
       "      <th></th>\n",
       "      <th>distance_from_home</th>\n",
       "      <th>distance_from_last_transaction</th>\n",
       "      <th>ratio_to_median_purchase_price</th>\n",
       "      <th>repeat_retailer</th>\n",
       "      <th>used_chip</th>\n",
       "      <th>used_pin_number</th>\n",
       "      <th>online_order</th>\n",
       "    </tr>\n",
       "  </thead>\n",
       "  <tbody>\n",
       "    <tr>\n",
       "      <th>954</th>\n",
       "      <td>39.904167</td>\n",
       "      <td>0.367448</td>\n",
       "      <td>0.260833</td>\n",
       "      <td>1.0</td>\n",
       "      <td>1.0</td>\n",
       "      <td>0.0</td>\n",
       "      <td>1.0</td>\n",
       "    </tr>\n",
       "    <tr>\n",
       "      <th>143</th>\n",
       "      <td>2.660649</td>\n",
       "      <td>0.657162</td>\n",
       "      <td>3.837860</td>\n",
       "      <td>1.0</td>\n",
       "      <td>0.0</td>\n",
       "      <td>0.0</td>\n",
       "      <td>1.0</td>\n",
       "    </tr>\n",
       "    <tr>\n",
       "      <th>643</th>\n",
       "      <td>48.902727</td>\n",
       "      <td>0.205816</td>\n",
       "      <td>1.307000</td>\n",
       "      <td>1.0</td>\n",
       "      <td>0.0</td>\n",
       "      <td>1.0</td>\n",
       "      <td>0.0</td>\n",
       "    </tr>\n",
       "    <tr>\n",
       "      <th>15</th>\n",
       "      <td>179.665148</td>\n",
       "      <td>0.120920</td>\n",
       "      <td>0.535640</td>\n",
       "      <td>1.0</td>\n",
       "      <td>1.0</td>\n",
       "      <td>1.0</td>\n",
       "      <td>1.0</td>\n",
       "    </tr>\n",
       "    <tr>\n",
       "      <th>793</th>\n",
       "      <td>676.702348</td>\n",
       "      <td>1.209733</td>\n",
       "      <td>6.948586</td>\n",
       "      <td>1.0</td>\n",
       "      <td>0.0</td>\n",
       "      <td>0.0</td>\n",
       "      <td>1.0</td>\n",
       "    </tr>\n",
       "    <tr>\n",
       "      <th>...</th>\n",
       "      <td>...</td>\n",
       "      <td>...</td>\n",
       "      <td>...</td>\n",
       "      <td>...</td>\n",
       "      <td>...</td>\n",
       "      <td>...</td>\n",
       "      <td>...</td>\n",
       "    </tr>\n",
       "    <tr>\n",
       "      <th>685</th>\n",
       "      <td>5.916343</td>\n",
       "      <td>5.099247</td>\n",
       "      <td>0.419779</td>\n",
       "      <td>1.0</td>\n",
       "      <td>0.0</td>\n",
       "      <td>0.0</td>\n",
       "      <td>0.0</td>\n",
       "    </tr>\n",
       "    <tr>\n",
       "      <th>722</th>\n",
       "      <td>23.517527</td>\n",
       "      <td>3.513485</td>\n",
       "      <td>0.241444</td>\n",
       "      <td>1.0</td>\n",
       "      <td>0.0</td>\n",
       "      <td>0.0</td>\n",
       "      <td>0.0</td>\n",
       "    </tr>\n",
       "    <tr>\n",
       "      <th>173</th>\n",
       "      <td>3.273426</td>\n",
       "      <td>1.056948</td>\n",
       "      <td>1.694281</td>\n",
       "      <td>1.0</td>\n",
       "      <td>0.0</td>\n",
       "      <td>0.0</td>\n",
       "      <td>1.0</td>\n",
       "    </tr>\n",
       "    <tr>\n",
       "      <th>499</th>\n",
       "      <td>7.387696</td>\n",
       "      <td>1.598827</td>\n",
       "      <td>0.847218</td>\n",
       "      <td>1.0</td>\n",
       "      <td>0.0</td>\n",
       "      <td>0.0</td>\n",
       "      <td>1.0</td>\n",
       "    </tr>\n",
       "    <tr>\n",
       "      <th>593</th>\n",
       "      <td>5.630854</td>\n",
       "      <td>1.626769</td>\n",
       "      <td>1.645281</td>\n",
       "      <td>1.0</td>\n",
       "      <td>0.0</td>\n",
       "      <td>0.0</td>\n",
       "      <td>1.0</td>\n",
       "    </tr>\n",
       "  </tbody>\n",
       "</table>\n",
       "<p>781 rows × 7 columns</p>\n",
       "</div>"
      ],
      "text/plain": [
       "     distance_from_home  distance_from_last_transaction  \\\n",
       "954           39.904167                        0.367448   \n",
       "143            2.660649                        0.657162   \n",
       "643           48.902727                        0.205816   \n",
       "15           179.665148                        0.120920   \n",
       "793          676.702348                        1.209733   \n",
       "..                  ...                             ...   \n",
       "685            5.916343                        5.099247   \n",
       "722           23.517527                        3.513485   \n",
       "173            3.273426                        1.056948   \n",
       "499            7.387696                        1.598827   \n",
       "593            5.630854                        1.626769   \n",
       "\n",
       "     ratio_to_median_purchase_price  repeat_retailer  used_chip  \\\n",
       "954                        0.260833              1.0        1.0   \n",
       "143                        3.837860              1.0        0.0   \n",
       "643                        1.307000              1.0        0.0   \n",
       "15                         0.535640              1.0        1.0   \n",
       "793                        6.948586              1.0        0.0   \n",
       "..                              ...              ...        ...   \n",
       "685                        0.419779              1.0        0.0   \n",
       "722                        0.241444              1.0        0.0   \n",
       "173                        1.694281              1.0        0.0   \n",
       "499                        0.847218              1.0        0.0   \n",
       "593                        1.645281              1.0        0.0   \n",
       "\n",
       "     used_pin_number  online_order  \n",
       "954              0.0           1.0  \n",
       "143              0.0           1.0  \n",
       "643              1.0           0.0  \n",
       "15               1.0           1.0  \n",
       "793              0.0           1.0  \n",
       "..               ...           ...  \n",
       "685              0.0           0.0  \n",
       "722              0.0           0.0  \n",
       "173              0.0           1.0  \n",
       "499              0.0           1.0  \n",
       "593              0.0           1.0  \n",
       "\n",
       "[781 rows x 7 columns]"
      ]
     },
     "execution_count": 98,
     "metadata": {},
     "output_type": "execute_result"
    }
   ],
   "source": [
    "X_train"
   ]
  },
  {
   "cell_type": "code",
   "execution_count": 99,
   "id": "ea879c3c-ce52-4fdd-a8ec-3ad34991a545",
   "metadata": {},
   "outputs": [
    {
     "data": {
      "text/plain": [
       "954    0\n",
       "143    0\n",
       "643    0\n",
       "15     0\n",
       "793    1\n",
       "      ..\n",
       "685    0\n",
       "722    0\n",
       "173    0\n",
       "499    0\n",
       "593    0\n",
       "Name: fraud, Length: 781, dtype: int64"
      ]
     },
     "execution_count": 99,
     "metadata": {},
     "output_type": "execute_result"
    }
   ],
   "source": [
    "y_train"
   ]
  },
  {
   "cell_type": "code",
   "execution_count": 100,
   "id": "e626629e-0c3a-42cb-a5da-0ee803c4e39e",
   "metadata": {},
   "outputs": [
    {
     "data": {
      "text/html": [
       "<div>\n",
       "<style scoped>\n",
       "    .dataframe tbody tr th:only-of-type {\n",
       "        vertical-align: middle;\n",
       "    }\n",
       "\n",
       "    .dataframe tbody tr th {\n",
       "        vertical-align: top;\n",
       "    }\n",
       "\n",
       "    .dataframe thead th {\n",
       "        text-align: right;\n",
       "    }\n",
       "</style>\n",
       "<table border=\"1\" class=\"dataframe\">\n",
       "  <thead>\n",
       "    <tr style=\"text-align: right;\">\n",
       "      <th></th>\n",
       "      <th>distance_from_home</th>\n",
       "      <th>distance_from_last_transaction</th>\n",
       "      <th>ratio_to_median_purchase_price</th>\n",
       "      <th>repeat_retailer</th>\n",
       "      <th>used_chip</th>\n",
       "      <th>used_pin_number</th>\n",
       "      <th>online_order</th>\n",
       "    </tr>\n",
       "  </thead>\n",
       "  <tbody>\n",
       "    <tr>\n",
       "      <th>782</th>\n",
       "      <td>0.701100</td>\n",
       "      <td>0.540487</td>\n",
       "      <td>1.754568</td>\n",
       "      <td>0.0</td>\n",
       "      <td>0.0</td>\n",
       "      <td>0.0</td>\n",
       "      <td>1.0</td>\n",
       "    </tr>\n",
       "    <tr>\n",
       "      <th>51</th>\n",
       "      <td>43.281314</td>\n",
       "      <td>3.367793</td>\n",
       "      <td>0.676058</td>\n",
       "      <td>1.0</td>\n",
       "      <td>1.0</td>\n",
       "      <td>1.0</td>\n",
       "      <td>1.0</td>\n",
       "    </tr>\n",
       "    <tr>\n",
       "      <th>197</th>\n",
       "      <td>4.586564</td>\n",
       "      <td>3.365070</td>\n",
       "      <td>2.454288</td>\n",
       "      <td>1.0</td>\n",
       "      <td>0.0</td>\n",
       "      <td>0.0</td>\n",
       "      <td>0.0</td>\n",
       "    </tr>\n",
       "    <tr>\n",
       "      <th>550</th>\n",
       "      <td>4.403263</td>\n",
       "      <td>0.173726</td>\n",
       "      <td>0.641169</td>\n",
       "      <td>1.0</td>\n",
       "      <td>0.0</td>\n",
       "      <td>0.0</td>\n",
       "      <td>0.0</td>\n",
       "    </tr>\n",
       "    <tr>\n",
       "      <th>412</th>\n",
       "      <td>965.910612</td>\n",
       "      <td>0.023604</td>\n",
       "      <td>0.257908</td>\n",
       "      <td>1.0</td>\n",
       "      <td>0.0</td>\n",
       "      <td>0.0</td>\n",
       "      <td>1.0</td>\n",
       "    </tr>\n",
       "    <tr>\n",
       "      <th>...</th>\n",
       "      <td>...</td>\n",
       "      <td>...</td>\n",
       "      <td>...</td>\n",
       "      <td>...</td>\n",
       "      <td>...</td>\n",
       "      <td>...</td>\n",
       "      <td>...</td>\n",
       "    </tr>\n",
       "    <tr>\n",
       "      <th>436</th>\n",
       "      <td>6.498016</td>\n",
       "      <td>0.228995</td>\n",
       "      <td>0.171750</td>\n",
       "      <td>1.0</td>\n",
       "      <td>0.0</td>\n",
       "      <td>0.0</td>\n",
       "      <td>0.0</td>\n",
       "    </tr>\n",
       "    <tr>\n",
       "      <th>868</th>\n",
       "      <td>9.258344</td>\n",
       "      <td>0.633609</td>\n",
       "      <td>0.066744</td>\n",
       "      <td>1.0</td>\n",
       "      <td>1.0</td>\n",
       "      <td>0.0</td>\n",
       "      <td>1.0</td>\n",
       "    </tr>\n",
       "    <tr>\n",
       "      <th>65</th>\n",
       "      <td>17.797888</td>\n",
       "      <td>1.395508</td>\n",
       "      <td>2.880479</td>\n",
       "      <td>1.0</td>\n",
       "      <td>1.0</td>\n",
       "      <td>0.0</td>\n",
       "      <td>0.0</td>\n",
       "    </tr>\n",
       "    <tr>\n",
       "      <th>743</th>\n",
       "      <td>5.599947</td>\n",
       "      <td>2.477098</td>\n",
       "      <td>5.956153</td>\n",
       "      <td>1.0</td>\n",
       "      <td>0.0</td>\n",
       "      <td>0.0</td>\n",
       "      <td>0.0</td>\n",
       "    </tr>\n",
       "    <tr>\n",
       "      <th>390</th>\n",
       "      <td>12.391271</td>\n",
       "      <td>1.658017</td>\n",
       "      <td>0.380575</td>\n",
       "      <td>1.0</td>\n",
       "      <td>0.0</td>\n",
       "      <td>0.0</td>\n",
       "      <td>1.0</td>\n",
       "    </tr>\n",
       "  </tbody>\n",
       "</table>\n",
       "<p>196 rows × 7 columns</p>\n",
       "</div>"
      ],
      "text/plain": [
       "     distance_from_home  distance_from_last_transaction  \\\n",
       "782            0.701100                        0.540487   \n",
       "51            43.281314                        3.367793   \n",
       "197            4.586564                        3.365070   \n",
       "550            4.403263                        0.173726   \n",
       "412          965.910612                        0.023604   \n",
       "..                  ...                             ...   \n",
       "436            6.498016                        0.228995   \n",
       "868            9.258344                        0.633609   \n",
       "65            17.797888                        1.395508   \n",
       "743            5.599947                        2.477098   \n",
       "390           12.391271                        1.658017   \n",
       "\n",
       "     ratio_to_median_purchase_price  repeat_retailer  used_chip  \\\n",
       "782                        1.754568              0.0        0.0   \n",
       "51                         0.676058              1.0        1.0   \n",
       "197                        2.454288              1.0        0.0   \n",
       "550                        0.641169              1.0        0.0   \n",
       "412                        0.257908              1.0        0.0   \n",
       "..                              ...              ...        ...   \n",
       "436                        0.171750              1.0        0.0   \n",
       "868                        0.066744              1.0        1.0   \n",
       "65                         2.880479              1.0        1.0   \n",
       "743                        5.956153              1.0        0.0   \n",
       "390                        0.380575              1.0        0.0   \n",
       "\n",
       "     used_pin_number  online_order  \n",
       "782              0.0           1.0  \n",
       "51               1.0           1.0  \n",
       "197              0.0           0.0  \n",
       "550              0.0           0.0  \n",
       "412              0.0           1.0  \n",
       "..               ...           ...  \n",
       "436              0.0           0.0  \n",
       "868              0.0           1.0  \n",
       "65               0.0           0.0  \n",
       "743              0.0           0.0  \n",
       "390              0.0           1.0  \n",
       "\n",
       "[196 rows x 7 columns]"
      ]
     },
     "execution_count": 100,
     "metadata": {},
     "output_type": "execute_result"
    }
   ],
   "source": [
    "X_test"
   ]
  },
  {
   "cell_type": "code",
   "execution_count": 101,
   "id": "eb5afc14-f039-4a00-9025-f2c339697c46",
   "metadata": {},
   "outputs": [
    {
     "data": {
      "text/plain": [
       "782    0\n",
       "51     0\n",
       "197    0\n",
       "550    0\n",
       "412    1\n",
       "      ..\n",
       "436    0\n",
       "868    0\n",
       "65     0\n",
       "743    0\n",
       "390    0\n",
       "Name: fraud, Length: 196, dtype: int64"
      ]
     },
     "execution_count": 101,
     "metadata": {},
     "output_type": "execute_result"
    }
   ],
   "source": [
    "y_test"
   ]
  },
  {
   "cell_type": "code",
   "execution_count": 102,
   "id": "cfa46e56-1703-4997-82f9-2bae9b8074f0",
   "metadata": {},
   "outputs": [],
   "source": [
    "# There are 196 transactions in the testing set"
   ]
  },
  {
   "cell_type": "code",
   "execution_count": 103,
   "id": "7956497e-eb36-42d2-95da-3b8c72dd5efc",
   "metadata": {},
   "outputs": [],
   "source": [
    "## Never Fraud Model"
   ]
  },
  {
   "cell_type": "code",
   "execution_count": 104,
   "id": "3a54d494-7970-4c3a-8330-461acd906714",
   "metadata": {},
   "outputs": [
    {
     "name": "stdout",
     "output_type": "stream",
     "text": [
      "[0, 0, 0, 0, 0, 0, 0, 0, 0, 0, 0, 0, 0, 0, 0, 0, 0, 0, 0, 0, 0, 0, 0, 0, 0, 0, 0, 0, 0, 0, 0, 0, 0, 0, 0, 0, 0, 0, 0, 0, 0, 0, 0, 0, 0, 0, 0, 0, 0, 0, 0, 0, 0, 0, 0, 0, 0, 0, 0, 0, 0, 0, 0, 0, 0, 0, 0, 0, 0, 0, 0, 0, 0, 0, 0, 0, 0, 0, 0, 0, 0, 0, 0, 0, 0, 0, 0, 0, 0, 0, 0, 0, 0, 0, 0, 0, 0, 0, 0, 0]\n"
     ]
    }
   ],
   "source": [
    "# Create a list of zeros representing the prediction of \"never fraud\"\n",
    "y_pred_never_fraud = [0] * len(y_test)\n",
    "\n",
    "# Print the first 100 predictions\n",
    "print(y_pred_never_fraud[:100])"
   ]
  },
  {
   "cell_type": "code",
   "execution_count": 105,
   "id": "09ada71e-9996-4793-b26d-241b6c5d1855",
   "metadata": {},
   "outputs": [],
   "source": [
    "## Basic modeling with k-NN"
   ]
  },
  {
   "cell_type": "code",
   "execution_count": 106,
   "id": "31e6a2b6-18db-4bf6-a1f2-f9d010d58bc0",
   "metadata": {},
   "outputs": [
    {
     "name": "stdout",
     "output_type": "stream",
     "text": [
      "First 100 predictions (KNN): [0 0 0 0 1 0 0 0 0 1 0 1 0 0 0 0 0 0 0 0 0 0 0 0 0 0 0 0 0 0 1 1 0 0 1 0 0\n",
      " 0 0 0 0 0 0 0 0 0 0 0 0 0 0 0 0 0 0 0 0 0 0 0 0 0 0 0 0 0 0 0 0 1 0 0 0 0\n",
      " 0 0 1 0 0 0 0 0 0 0 0 0 0 0 0 1 0 0 0 0 0 0 0 0 0 0]\n"
     ]
    }
   ],
   "source": [
    "# Create a k-Nearest Neighbors (KNN) classifier with 3 neighbors\n",
    "knn = KNeighborsClassifier(n_neighbors=3)\n",
    "\n",
    "# Fit the KNN classifier to the training data\n",
    "knn.fit(X_train, y_train)\n",
    "\n",
    "# Predict on the test data\n",
    "y_pred_knn = knn.predict(X_test)\n",
    "\n",
    "# Print the first 100 predictions\n",
    "print(\"First 100 predictions (KNN):\", y_pred_knn[:100])"
   ]
  },
  {
   "cell_type": "code",
   "execution_count": 107,
   "id": "ffed0104-1778-459b-8653-4319d4f1eeae",
   "metadata": {},
   "outputs": [],
   "source": [
    "## Model Evaluation"
   ]
  },
  {
   "cell_type": "code",
   "execution_count": 108,
   "id": "5cf4d0f8-e3f5-4056-ad02-55bb1fc8dc57",
   "metadata": {},
   "outputs": [],
   "source": [
    "# Prompt given: now make a confusion matrix called conf_matrix_never_fraud using y_test, y_pred_never_fraud, \n",
    "# then make a heatmap using sns with the title 'Confusion Matrix - Never Fraud Model', \n",
    "# the x-axis labeled 'Predicted' and the y-axis labeled 'Actual'. Finally, print a classification report"
   ]
  },
  {
   "cell_type": "code",
   "execution_count": 109,
   "id": "63099368-a8ab-4dab-b29e-ccbee8f58d62",
   "metadata": {},
   "outputs": [
    {
     "data": {
      "image/png": "[encoded data removed]",
      "text/plain": [
       "<Figure size 432x288 with 2 Axes>"
      ]
     },
     "metadata": {
      "needs_background": "light"
     },
     "output_type": "display_data"
    },
    {
     "name": "stdout",
     "output_type": "stream",
     "text": [
      "              precision    recall  f1-score   support\n",
      "\n",
      "           0       0.92      1.00      0.96       181\n",
      "           1       0.00      0.00      0.00        15\n",
      "\n",
      "    accuracy                           0.92       196\n",
      "   macro avg       0.46      0.50      0.48       196\n",
      "weighted avg       0.85      0.92      0.89       196\n",
      "\n"
     ]
    }
   ],
   "source": [
    "# Create the confusion matrix for the \"Never Fraud\" model\n",
    "conf_matrix_never_fraud = confusion_matrix(y_test, y_pred_never_fraud)\n",
    "\n",
    "# Plot the confusion matrix as a heatmap\n",
    "sns.heatmap(conf_matrix_never_fraud, annot=True, fmt=\"d\", cmap=\"Reds\", cbar=True)\n",
    "plt.title(\"Confusion Matrix - Never Fraud Model\")\n",
    "plt.xlabel(\"Predicted\")\n",
    "plt.ylabel(\"Actual\")\n",
    "plt.show()\n",
    "\n",
    "# Print the classification report for the \"Never Fraud\" model\n",
    "print(classification_report(y_test, y_pred_never_fraud, zero_division = 0))"
   ]
  },
  {
   "cell_type": "code",
   "execution_count": 110,
   "id": "bff9a79d-b662-4c04-a386-0dd32c092e4c",
   "metadata": {},
   "outputs": [
    {
     "data": {
      "image/png": "[encoded data removed]",
      "text/plain": [
       "<Figure size 432x288 with 2 Axes>"
      ]
     },
     "metadata": {
      "needs_background": "light"
     },
     "output_type": "display_data"
    },
    {
     "name": "stdout",
     "output_type": "stream",
     "text": [
      "              precision    recall  f1-score   support\n",
      "\n",
      "           0       0.96      0.97      0.97       181\n",
      "           1       0.62      0.53      0.57        15\n",
      "\n",
      "    accuracy                           0.94       196\n",
      "   macro avg       0.79      0.75      0.77       196\n",
      "weighted avg       0.94      0.94      0.94       196\n",
      "\n"
     ]
    }
   ],
   "source": [
    "# Create the confusion matrix for the KNN model\n",
    "conf_matrix_knn = confusion_matrix(y_test, y_pred_knn)\n",
    "\n",
    "# Plot the confusion matrix as a heatmap\n",
    "sns.heatmap(conf_matrix_knn, annot=True, fmt=\"d\", cmap=\"Blues\", cbar=True)\n",
    "plt.title(\"Confusion Matrix - KNN Model\")\n",
    "plt.xlabel(\"Predicted\")\n",
    "plt.ylabel(\"Actual\")\n",
    "plt.show()\n",
    "\n",
    "# Print the classification report for the KNN model\n",
    "print(classification_report(y_test, y_pred_knn))"
   ]
  },
  {
   "cell_type": "code",
   "execution_count": 111,
   "id": "50bf1aa5-8bcc-4987-bca7-adcbfc274049",
   "metadata": {},
   "outputs": [],
   "source": [
    "# Prompt given: now, calculate accuracy, precision, recall, and f1 score for both 'Never Fraud' and k-NN, \n",
    "# and make the variables the name of the metric followed by either never_fraud or knn"
   ]
  },
  {
   "cell_type": "code",
   "execution_count": 112,
   "id": "8b546e47-d5a1-4ac8-9663-14f51d7d0461",
   "metadata": {},
   "outputs": [],
   "source": [
    "# Metrics for the \"Never Fraud\" model\n",
    "accuracy_never_fraud = accuracy_score(y_test, y_pred_never_fraud)\n",
    "precision_never_fraud = precision_score(y_test, y_pred_never_fraud, zero_division = 0)\n",
    "recall_never_fraud = recall_score(y_test, y_pred_never_fraud)\n",
    "f1_never_fraud = f1_score(y_test, y_pred_never_fraud)\n",
    "\n",
    "# Metrics for the KNN model\n",
    "accuracy_knn = accuracy_score(y_test, y_pred_knn)\n",
    "precision_knn = precision_score(y_test, y_pred_knn)\n",
    "recall_knn = recall_score(y_test, y_pred_knn)\n",
    "f1_knn = f1_score(y_test, y_pred_knn)\n",
    "\n",
    "# List of metric names\n",
    "metrics = [\"Accuracy\", \"Precision\", \"Recall\", \"F1 Score\"]\n",
    "\n",
    "# Scores for the KNN model\n",
    "knn_scores = [accuracy_knn, precision_knn, recall_knn, f1_knn]\n",
    "\n",
    "# Scores for the \"Never Fraud\" model\n",
    "never_fraud_scores = [accuracy_never_fraud, precision_never_fraud, recall_never_fraud, f1_never_fraud]"
   ]
  },
  {
   "cell_type": "code",
   "execution_count": 113,
   "id": "21e95e0f-04d8-4e23-abea-a47b9ff6b97f",
   "metadata": {},
   "outputs": [],
   "source": [
    "# Create a DataFrame to compare the metrics for the two models\n",
    "comparison_transaction_data = pd.DataFrame({'Metric': metrics,'k-NN': knn_scores,'Never Fraud': never_fraud_scores})"
   ]
  },
  {
   "cell_type": "code",
   "execution_count": 114,
   "id": "bcb9a1cf-e977-42a2-b7e5-9e018ad3a211",
   "metadata": {},
   "outputs": [
    {
     "data": {
      "image/png": "[encoded data removed]",
      "text/plain": [
       "<Figure size 720x432 with 1 Axes>"
      ]
     },
     "metadata": {
      "needs_background": "light"
     },
     "output_type": "display_data"
    }
   ],
   "source": [
    "# Plotting\n",
    "fig, ax = plt.subplots(figsize=(10, 6))\n",
    "\n",
    "# Bar width and index for positioning the bars\n",
    "bar_width = 0.35\n",
    "index = range(len(metrics))\n",
    "\n",
    "# Plot bars for k-NN and Never Fraud\n",
    "bar1 = ax.bar(index, knn_scores, bar_width, label='k-NN', color='blue')\n",
    "bar2 = ax.bar([i + bar_width for i in index], never_fraud_scores, bar_width, label='Never Fraud', color='red')\n",
    "\n",
    "# Set labels and title\n",
    "ax.set_xlabel('Metric')\n",
    "ax.set_ylabel('Score')\n",
    "ax.set_title('Model Performance Comparison')\n",
    "\n",
    "# Set x-ticks to be in the middle of the grouped bars\n",
    "ax.set_xticks([i + bar_width / 2 for i in index])\n",
    "ax.set_xticklabels(metrics)\n",
    "\n",
    "# Set the y-axis limit from 0 to 1 (for score range)\n",
    "ax.set_ylim(0, 1)\n",
    "\n",
    "# Add legend\n",
    "ax.legend()\n",
    "\n",
    "# Display the plot\n",
    "plt.show()"
   ]
  }
 ],
 "metadata": {
  "kernelspec": {
   "display_name": "Python 3 (ipykernel)",
   "language": "python",
   "name": "python3"
  },
  "language_info": {
   "codemirror_mode": {
    "name": "ipython",
    "version": 3
   },
   "file_extension": ".py",
   "mimetype": "text/x-python",
   "name": "python",
   "nbconvert_exporter": "python",
   "pygments_lexer": "ipython3",
   "version": "3.9.7"
  }
 },
 "nbformat": 4,
 "nbformat_minor": 5
}
